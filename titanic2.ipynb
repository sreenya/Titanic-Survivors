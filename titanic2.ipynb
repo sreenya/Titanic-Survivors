{
 "cells": [
  {
   "cell_type": "code",
   "execution_count": 1,
   "id": "bb29d7b0",
   "metadata": {
    "_cell_guid": "b1076dfc-b9ad-4769-8c92-a6c4dae69d19",
    "_uuid": "8f2839f25d086af736a60e9eeb907d3b93b6e0e5",
    "execution": {
     "iopub.execute_input": "2022-07-13T19:15:56.879484Z",
     "iopub.status.busy": "2022-07-13T19:15:56.878956Z",
     "iopub.status.idle": "2022-07-13T19:15:56.894897Z",
     "shell.execute_reply": "2022-07-13T19:15:56.893743Z"
    },
    "papermill": {
     "duration": 0.030911,
     "end_time": "2022-07-13T19:15:56.899062",
     "exception": false,
     "start_time": "2022-07-13T19:15:56.868151",
     "status": "completed"
    },
    "tags": []
   },
   "outputs": [
    {
     "name": "stdout",
     "output_type": "stream",
     "text": [
      "/kaggle/input/titanic/train.csv\n",
      "/kaggle/input/titanic/test.csv\n",
      "/kaggle/input/titanic/gender_submission.csv\n"
     ]
    }
   ],
   "source": [
    "# This Python 3 environment comes with many helpful analytics libraries installed\n",
    "# It is defined by the kaggle/python Docker image: https://github.com/kaggle/docker-python\n",
    "# For example, here's several helpful packages to load\n",
    "\n",
    "import numpy as np # linear algebra\n",
    "import pandas as pd # data processing, CSV file I/O (e.g. pd.read_csv)\n",
    "\n",
    "# Input data files are available in the read-only \"../input/\" directory\n",
    "# For example, running this (by clicking run or pressing Shift+Enter) will list all files under the input directory\n",
    "\n",
    "import os\n",
    "for dirname, _, filenames in os.walk('/kaggle/input'):\n",
    "    for filename in filenames:\n",
    "        print(os.path.join(dirname, filename))\n",
    "\n",
    "# You can write up to 20GB to the current directory (/kaggle/working/) that gets preserved as output when you create a version using \"Save & Run All\" \n",
    "# You can also write temporary files to /kaggle/temp/, but they won't be saved outside of the current session"
   ]
  },
  {
   "cell_type": "code",
   "execution_count": 2,
   "id": "e19ff7e3",
   "metadata": {
    "execution": {
     "iopub.execute_input": "2022-07-13T19:15:56.917361Z",
     "iopub.status.busy": "2022-07-13T19:15:56.916912Z",
     "iopub.status.idle": "2022-07-13T19:15:56.970555Z",
     "shell.execute_reply": "2022-07-13T19:15:56.969658Z"
    },
    "papermill": {
     "duration": 0.06539,
     "end_time": "2022-07-13T19:15:56.972847",
     "exception": false,
     "start_time": "2022-07-13T19:15:56.907457",
     "status": "completed"
    },
    "tags": []
   },
   "outputs": [
    {
     "data": {
      "text/html": [
       "<div>\n",
       "<style scoped>\n",
       "    .dataframe tbody tr th:only-of-type {\n",
       "        vertical-align: middle;\n",
       "    }\n",
       "\n",
       "    .dataframe tbody tr th {\n",
       "        vertical-align: top;\n",
       "    }\n",
       "\n",
       "    .dataframe thead th {\n",
       "        text-align: right;\n",
       "    }\n",
       "</style>\n",
       "<table border=\"1\" class=\"dataframe\">\n",
       "  <thead>\n",
       "    <tr style=\"text-align: right;\">\n",
       "      <th></th>\n",
       "      <th>PassengerId</th>\n",
       "      <th>Survived</th>\n",
       "      <th>Pclass</th>\n",
       "      <th>Name</th>\n",
       "      <th>Sex</th>\n",
       "      <th>Age</th>\n",
       "      <th>SibSp</th>\n",
       "      <th>Parch</th>\n",
       "      <th>Ticket</th>\n",
       "      <th>Fare</th>\n",
       "      <th>Cabin</th>\n",
       "      <th>Embarked</th>\n",
       "    </tr>\n",
       "  </thead>\n",
       "  <tbody>\n",
       "    <tr>\n",
       "      <th>0</th>\n",
       "      <td>1</td>\n",
       "      <td>0</td>\n",
       "      <td>3</td>\n",
       "      <td>Braund, Mr. Owen Harris</td>\n",
       "      <td>male</td>\n",
       "      <td>22.0</td>\n",
       "      <td>1</td>\n",
       "      <td>0</td>\n",
       "      <td>A/5 21171</td>\n",
       "      <td>7.2500</td>\n",
       "      <td>NaN</td>\n",
       "      <td>S</td>\n",
       "    </tr>\n",
       "    <tr>\n",
       "      <th>1</th>\n",
       "      <td>2</td>\n",
       "      <td>1</td>\n",
       "      <td>1</td>\n",
       "      <td>Cumings, Mrs. John Bradley (Florence Briggs Th...</td>\n",
       "      <td>female</td>\n",
       "      <td>38.0</td>\n",
       "      <td>1</td>\n",
       "      <td>0</td>\n",
       "      <td>PC 17599</td>\n",
       "      <td>71.2833</td>\n",
       "      <td>C85</td>\n",
       "      <td>C</td>\n",
       "    </tr>\n",
       "    <tr>\n",
       "      <th>2</th>\n",
       "      <td>3</td>\n",
       "      <td>1</td>\n",
       "      <td>3</td>\n",
       "      <td>Heikkinen, Miss. Laina</td>\n",
       "      <td>female</td>\n",
       "      <td>26.0</td>\n",
       "      <td>0</td>\n",
       "      <td>0</td>\n",
       "      <td>STON/O2. 3101282</td>\n",
       "      <td>7.9250</td>\n",
       "      <td>NaN</td>\n",
       "      <td>S</td>\n",
       "    </tr>\n",
       "    <tr>\n",
       "      <th>3</th>\n",
       "      <td>4</td>\n",
       "      <td>1</td>\n",
       "      <td>1</td>\n",
       "      <td>Futrelle, Mrs. Jacques Heath (Lily May Peel)</td>\n",
       "      <td>female</td>\n",
       "      <td>35.0</td>\n",
       "      <td>1</td>\n",
       "      <td>0</td>\n",
       "      <td>113803</td>\n",
       "      <td>53.1000</td>\n",
       "      <td>C123</td>\n",
       "      <td>S</td>\n",
       "    </tr>\n",
       "    <tr>\n",
       "      <th>4</th>\n",
       "      <td>5</td>\n",
       "      <td>0</td>\n",
       "      <td>3</td>\n",
       "      <td>Allen, Mr. William Henry</td>\n",
       "      <td>male</td>\n",
       "      <td>35.0</td>\n",
       "      <td>0</td>\n",
       "      <td>0</td>\n",
       "      <td>373450</td>\n",
       "      <td>8.0500</td>\n",
       "      <td>NaN</td>\n",
       "      <td>S</td>\n",
       "    </tr>\n",
       "  </tbody>\n",
       "</table>\n",
       "</div>"
      ],
      "text/plain": [
       "   PassengerId  Survived  Pclass  \\\n",
       "0            1         0       3   \n",
       "1            2         1       1   \n",
       "2            3         1       3   \n",
       "3            4         1       1   \n",
       "4            5         0       3   \n",
       "\n",
       "                                                Name     Sex   Age  SibSp  \\\n",
       "0                            Braund, Mr. Owen Harris    male  22.0      1   \n",
       "1  Cumings, Mrs. John Bradley (Florence Briggs Th...  female  38.0      1   \n",
       "2                             Heikkinen, Miss. Laina  female  26.0      0   \n",
       "3       Futrelle, Mrs. Jacques Heath (Lily May Peel)  female  35.0      1   \n",
       "4                           Allen, Mr. William Henry    male  35.0      0   \n",
       "\n",
       "   Parch            Ticket     Fare Cabin Embarked  \n",
       "0      0         A/5 21171   7.2500   NaN        S  \n",
       "1      0          PC 17599  71.2833   C85        C  \n",
       "2      0  STON/O2. 3101282   7.9250   NaN        S  \n",
       "3      0            113803  53.1000  C123        S  \n",
       "4      0            373450   8.0500   NaN        S  "
      ]
     },
     "execution_count": 2,
     "metadata": {},
     "output_type": "execute_result"
    }
   ],
   "source": [
    "train_data = pd.read_csv(\"/kaggle/input/titanic/train.csv\")\n",
    "test_data = pd.read_csv(\"/kaggle/input/titanic/test.csv\")\n",
    "train_data.head()"
   ]
  },
  {
   "cell_type": "code",
   "execution_count": 3,
   "id": "07f1695a",
   "metadata": {
    "execution": {
     "iopub.execute_input": "2022-07-13T19:15:56.991639Z",
     "iopub.status.busy": "2022-07-13T19:15:56.991024Z",
     "iopub.status.idle": "2022-07-13T19:15:57.006802Z",
     "shell.execute_reply": "2022-07-13T19:15:57.005919Z"
    },
    "papermill": {
     "duration": 0.027768,
     "end_time": "2022-07-13T19:15:57.009031",
     "exception": false,
     "start_time": "2022-07-13T19:15:56.981263",
     "status": "completed"
    },
    "tags": []
   },
   "outputs": [
    {
     "data": {
      "text/html": [
       "<div>\n",
       "<style scoped>\n",
       "    .dataframe tbody tr th:only-of-type {\n",
       "        vertical-align: middle;\n",
       "    }\n",
       "\n",
       "    .dataframe tbody tr th {\n",
       "        vertical-align: top;\n",
       "    }\n",
       "\n",
       "    .dataframe thead th {\n",
       "        text-align: right;\n",
       "    }\n",
       "</style>\n",
       "<table border=\"1\" class=\"dataframe\">\n",
       "  <thead>\n",
       "    <tr style=\"text-align: right;\">\n",
       "      <th></th>\n",
       "      <th>PassengerId</th>\n",
       "      <th>Pclass</th>\n",
       "      <th>Name</th>\n",
       "      <th>Sex</th>\n",
       "      <th>Age</th>\n",
       "      <th>SibSp</th>\n",
       "      <th>Parch</th>\n",
       "      <th>Ticket</th>\n",
       "      <th>Fare</th>\n",
       "      <th>Cabin</th>\n",
       "      <th>Embarked</th>\n",
       "    </tr>\n",
       "  </thead>\n",
       "  <tbody>\n",
       "    <tr>\n",
       "      <th>0</th>\n",
       "      <td>892</td>\n",
       "      <td>3</td>\n",
       "      <td>Kelly, Mr. James</td>\n",
       "      <td>male</td>\n",
       "      <td>34.5</td>\n",
       "      <td>0</td>\n",
       "      <td>0</td>\n",
       "      <td>330911</td>\n",
       "      <td>7.8292</td>\n",
       "      <td>NaN</td>\n",
       "      <td>Q</td>\n",
       "    </tr>\n",
       "    <tr>\n",
       "      <th>1</th>\n",
       "      <td>893</td>\n",
       "      <td>3</td>\n",
       "      <td>Wilkes, Mrs. James (Ellen Needs)</td>\n",
       "      <td>female</td>\n",
       "      <td>47.0</td>\n",
       "      <td>1</td>\n",
       "      <td>0</td>\n",
       "      <td>363272</td>\n",
       "      <td>7.0000</td>\n",
       "      <td>NaN</td>\n",
       "      <td>S</td>\n",
       "    </tr>\n",
       "    <tr>\n",
       "      <th>2</th>\n",
       "      <td>894</td>\n",
       "      <td>2</td>\n",
       "      <td>Myles, Mr. Thomas Francis</td>\n",
       "      <td>male</td>\n",
       "      <td>62.0</td>\n",
       "      <td>0</td>\n",
       "      <td>0</td>\n",
       "      <td>240276</td>\n",
       "      <td>9.6875</td>\n",
       "      <td>NaN</td>\n",
       "      <td>Q</td>\n",
       "    </tr>\n",
       "    <tr>\n",
       "      <th>3</th>\n",
       "      <td>895</td>\n",
       "      <td>3</td>\n",
       "      <td>Wirz, Mr. Albert</td>\n",
       "      <td>male</td>\n",
       "      <td>27.0</td>\n",
       "      <td>0</td>\n",
       "      <td>0</td>\n",
       "      <td>315154</td>\n",
       "      <td>8.6625</td>\n",
       "      <td>NaN</td>\n",
       "      <td>S</td>\n",
       "    </tr>\n",
       "    <tr>\n",
       "      <th>4</th>\n",
       "      <td>896</td>\n",
       "      <td>3</td>\n",
       "      <td>Hirvonen, Mrs. Alexander (Helga E Lindqvist)</td>\n",
       "      <td>female</td>\n",
       "      <td>22.0</td>\n",
       "      <td>1</td>\n",
       "      <td>1</td>\n",
       "      <td>3101298</td>\n",
       "      <td>12.2875</td>\n",
       "      <td>NaN</td>\n",
       "      <td>S</td>\n",
       "    </tr>\n",
       "  </tbody>\n",
       "</table>\n",
       "</div>"
      ],
      "text/plain": [
       "   PassengerId  Pclass                                          Name     Sex  \\\n",
       "0          892       3                              Kelly, Mr. James    male   \n",
       "1          893       3              Wilkes, Mrs. James (Ellen Needs)  female   \n",
       "2          894       2                     Myles, Mr. Thomas Francis    male   \n",
       "3          895       3                              Wirz, Mr. Albert    male   \n",
       "4          896       3  Hirvonen, Mrs. Alexander (Helga E Lindqvist)  female   \n",
       "\n",
       "    Age  SibSp  Parch   Ticket     Fare Cabin Embarked  \n",
       "0  34.5      0      0   330911   7.8292   NaN        Q  \n",
       "1  47.0      1      0   363272   7.0000   NaN        S  \n",
       "2  62.0      0      0   240276   9.6875   NaN        Q  \n",
       "3  27.0      0      0   315154   8.6625   NaN        S  \n",
       "4  22.0      1      1  3101298  12.2875   NaN        S  "
      ]
     },
     "execution_count": 3,
     "metadata": {},
     "output_type": "execute_result"
    }
   ],
   "source": [
    "test_data.head()"
   ]
  },
  {
   "cell_type": "code",
   "execution_count": 4,
   "id": "510603e0",
   "metadata": {
    "execution": {
     "iopub.execute_input": "2022-07-13T19:15:57.028262Z",
     "iopub.status.busy": "2022-07-13T19:15:57.027516Z",
     "iopub.status.idle": "2022-07-13T19:15:58.178118Z",
     "shell.execute_reply": "2022-07-13T19:15:58.176744Z"
    },
    "papermill": {
     "duration": 1.16339,
     "end_time": "2022-07-13T19:15:58.180955",
     "exception": false,
     "start_time": "2022-07-13T19:15:57.017565",
     "status": "completed"
    },
    "tags": []
   },
   "outputs": [],
   "source": [
    "from sklearn import preprocessing"
   ]
  },
  {
   "cell_type": "code",
   "execution_count": 5,
   "id": "23938c55",
   "metadata": {
    "execution": {
     "iopub.execute_input": "2022-07-13T19:15:58.199576Z",
     "iopub.status.busy": "2022-07-13T19:15:58.199177Z",
     "iopub.status.idle": "2022-07-13T19:15:58.204271Z",
     "shell.execute_reply": "2022-07-13T19:15:58.203106Z"
    },
    "papermill": {
     "duration": 0.017,
     "end_time": "2022-07-13T19:15:58.206526",
     "exception": false,
     "start_time": "2022-07-13T19:15:58.189526",
     "status": "completed"
    },
    "tags": []
   },
   "outputs": [],
   "source": [
    "le = preprocessing.LabelEncoder()"
   ]
  },
  {
   "cell_type": "code",
   "execution_count": 6,
   "id": "74b2abd9",
   "metadata": {
    "execution": {
     "iopub.execute_input": "2022-07-13T19:15:58.225401Z",
     "iopub.status.busy": "2022-07-13T19:15:58.224619Z",
     "iopub.status.idle": "2022-07-13T19:15:58.236400Z",
     "shell.execute_reply": "2022-07-13T19:15:58.235109Z"
    },
    "papermill": {
     "duration": 0.024122,
     "end_time": "2022-07-13T19:15:58.239006",
     "exception": false,
     "start_time": "2022-07-13T19:15:58.214884",
     "status": "completed"
    },
    "tags": []
   },
   "outputs": [],
   "source": [
    "train_data['Sex'] = le.fit_transform(train_data['Sex']) \n",
    "test_data['Sex'] = le.fit_transform(test_data['Sex']) "
   ]
  },
  {
   "cell_type": "code",
   "execution_count": 7,
   "id": "37e38bef",
   "metadata": {
    "execution": {
     "iopub.execute_input": "2022-07-13T19:15:58.257901Z",
     "iopub.status.busy": "2022-07-13T19:15:58.257504Z",
     "iopub.status.idle": "2022-07-13T19:15:58.277486Z",
     "shell.execute_reply": "2022-07-13T19:15:58.276104Z"
    },
    "papermill": {
     "duration": 0.03289,
     "end_time": "2022-07-13T19:15:58.280479",
     "exception": false,
     "start_time": "2022-07-13T19:15:58.247589",
     "status": "completed"
    },
    "tags": []
   },
   "outputs": [
    {
     "data": {
      "text/html": [
       "<div>\n",
       "<style scoped>\n",
       "    .dataframe tbody tr th:only-of-type {\n",
       "        vertical-align: middle;\n",
       "    }\n",
       "\n",
       "    .dataframe tbody tr th {\n",
       "        vertical-align: top;\n",
       "    }\n",
       "\n",
       "    .dataframe thead th {\n",
       "        text-align: right;\n",
       "    }\n",
       "</style>\n",
       "<table border=\"1\" class=\"dataframe\">\n",
       "  <thead>\n",
       "    <tr style=\"text-align: right;\">\n",
       "      <th></th>\n",
       "      <th>PassengerId</th>\n",
       "      <th>Survived</th>\n",
       "      <th>Pclass</th>\n",
       "      <th>Name</th>\n",
       "      <th>Sex</th>\n",
       "      <th>Age</th>\n",
       "      <th>SibSp</th>\n",
       "      <th>Parch</th>\n",
       "      <th>Ticket</th>\n",
       "      <th>Fare</th>\n",
       "      <th>Cabin</th>\n",
       "      <th>Embarked</th>\n",
       "    </tr>\n",
       "  </thead>\n",
       "  <tbody>\n",
       "    <tr>\n",
       "      <th>0</th>\n",
       "      <td>1</td>\n",
       "      <td>0</td>\n",
       "      <td>3</td>\n",
       "      <td>Braund, Mr. Owen Harris</td>\n",
       "      <td>1</td>\n",
       "      <td>22.0</td>\n",
       "      <td>1</td>\n",
       "      <td>0</td>\n",
       "      <td>A/5 21171</td>\n",
       "      <td>7.2500</td>\n",
       "      <td>NaN</td>\n",
       "      <td>S</td>\n",
       "    </tr>\n",
       "    <tr>\n",
       "      <th>1</th>\n",
       "      <td>2</td>\n",
       "      <td>1</td>\n",
       "      <td>1</td>\n",
       "      <td>Cumings, Mrs. John Bradley (Florence Briggs Th...</td>\n",
       "      <td>0</td>\n",
       "      <td>38.0</td>\n",
       "      <td>1</td>\n",
       "      <td>0</td>\n",
       "      <td>PC 17599</td>\n",
       "      <td>71.2833</td>\n",
       "      <td>C85</td>\n",
       "      <td>C</td>\n",
       "    </tr>\n",
       "    <tr>\n",
       "      <th>2</th>\n",
       "      <td>3</td>\n",
       "      <td>1</td>\n",
       "      <td>3</td>\n",
       "      <td>Heikkinen, Miss. Laina</td>\n",
       "      <td>0</td>\n",
       "      <td>26.0</td>\n",
       "      <td>0</td>\n",
       "      <td>0</td>\n",
       "      <td>STON/O2. 3101282</td>\n",
       "      <td>7.9250</td>\n",
       "      <td>NaN</td>\n",
       "      <td>S</td>\n",
       "    </tr>\n",
       "    <tr>\n",
       "      <th>3</th>\n",
       "      <td>4</td>\n",
       "      <td>1</td>\n",
       "      <td>1</td>\n",
       "      <td>Futrelle, Mrs. Jacques Heath (Lily May Peel)</td>\n",
       "      <td>0</td>\n",
       "      <td>35.0</td>\n",
       "      <td>1</td>\n",
       "      <td>0</td>\n",
       "      <td>113803</td>\n",
       "      <td>53.1000</td>\n",
       "      <td>C123</td>\n",
       "      <td>S</td>\n",
       "    </tr>\n",
       "    <tr>\n",
       "      <th>4</th>\n",
       "      <td>5</td>\n",
       "      <td>0</td>\n",
       "      <td>3</td>\n",
       "      <td>Allen, Mr. William Henry</td>\n",
       "      <td>1</td>\n",
       "      <td>35.0</td>\n",
       "      <td>0</td>\n",
       "      <td>0</td>\n",
       "      <td>373450</td>\n",
       "      <td>8.0500</td>\n",
       "      <td>NaN</td>\n",
       "      <td>S</td>\n",
       "    </tr>\n",
       "  </tbody>\n",
       "</table>\n",
       "</div>"
      ],
      "text/plain": [
       "   PassengerId  Survived  Pclass  \\\n",
       "0            1         0       3   \n",
       "1            2         1       1   \n",
       "2            3         1       3   \n",
       "3            4         1       1   \n",
       "4            5         0       3   \n",
       "\n",
       "                                                Name  Sex   Age  SibSp  Parch  \\\n",
       "0                            Braund, Mr. Owen Harris    1  22.0      1      0   \n",
       "1  Cumings, Mrs. John Bradley (Florence Briggs Th...    0  38.0      1      0   \n",
       "2                             Heikkinen, Miss. Laina    0  26.0      0      0   \n",
       "3       Futrelle, Mrs. Jacques Heath (Lily May Peel)    0  35.0      1      0   \n",
       "4                           Allen, Mr. William Henry    1  35.0      0      0   \n",
       "\n",
       "             Ticket     Fare Cabin Embarked  \n",
       "0         A/5 21171   7.2500   NaN        S  \n",
       "1          PC 17599  71.2833   C85        C  \n",
       "2  STON/O2. 3101282   7.9250   NaN        S  \n",
       "3            113803  53.1000  C123        S  \n",
       "4            373450   8.0500   NaN        S  "
      ]
     },
     "execution_count": 7,
     "metadata": {},
     "output_type": "execute_result"
    }
   ],
   "source": [
    "train_data.head()"
   ]
  },
  {
   "cell_type": "code",
   "execution_count": 8,
   "id": "f45ef4e1",
   "metadata": {
    "execution": {
     "iopub.execute_input": "2022-07-13T19:15:58.300868Z",
     "iopub.status.busy": "2022-07-13T19:15:58.300465Z",
     "iopub.status.idle": "2022-07-13T19:15:58.317551Z",
     "shell.execute_reply": "2022-07-13T19:15:58.316700Z"
    },
    "papermill": {
     "duration": 0.029999,
     "end_time": "2022-07-13T19:15:58.320021",
     "exception": false,
     "start_time": "2022-07-13T19:15:58.290022",
     "status": "completed"
    },
    "tags": []
   },
   "outputs": [
    {
     "data": {
      "text/html": [
       "<div>\n",
       "<style scoped>\n",
       "    .dataframe tbody tr th:only-of-type {\n",
       "        vertical-align: middle;\n",
       "    }\n",
       "\n",
       "    .dataframe tbody tr th {\n",
       "        vertical-align: top;\n",
       "    }\n",
       "\n",
       "    .dataframe thead th {\n",
       "        text-align: right;\n",
       "    }\n",
       "</style>\n",
       "<table border=\"1\" class=\"dataframe\">\n",
       "  <thead>\n",
       "    <tr style=\"text-align: right;\">\n",
       "      <th></th>\n",
       "      <th>PassengerId</th>\n",
       "      <th>Pclass</th>\n",
       "      <th>Name</th>\n",
       "      <th>Sex</th>\n",
       "      <th>Age</th>\n",
       "      <th>SibSp</th>\n",
       "      <th>Parch</th>\n",
       "      <th>Ticket</th>\n",
       "      <th>Fare</th>\n",
       "      <th>Cabin</th>\n",
       "      <th>Embarked</th>\n",
       "    </tr>\n",
       "  </thead>\n",
       "  <tbody>\n",
       "    <tr>\n",
       "      <th>0</th>\n",
       "      <td>892</td>\n",
       "      <td>3</td>\n",
       "      <td>Kelly, Mr. James</td>\n",
       "      <td>1</td>\n",
       "      <td>34.5</td>\n",
       "      <td>0</td>\n",
       "      <td>0</td>\n",
       "      <td>330911</td>\n",
       "      <td>7.8292</td>\n",
       "      <td>NaN</td>\n",
       "      <td>Q</td>\n",
       "    </tr>\n",
       "    <tr>\n",
       "      <th>1</th>\n",
       "      <td>893</td>\n",
       "      <td>3</td>\n",
       "      <td>Wilkes, Mrs. James (Ellen Needs)</td>\n",
       "      <td>0</td>\n",
       "      <td>47.0</td>\n",
       "      <td>1</td>\n",
       "      <td>0</td>\n",
       "      <td>363272</td>\n",
       "      <td>7.0000</td>\n",
       "      <td>NaN</td>\n",
       "      <td>S</td>\n",
       "    </tr>\n",
       "    <tr>\n",
       "      <th>2</th>\n",
       "      <td>894</td>\n",
       "      <td>2</td>\n",
       "      <td>Myles, Mr. Thomas Francis</td>\n",
       "      <td>1</td>\n",
       "      <td>62.0</td>\n",
       "      <td>0</td>\n",
       "      <td>0</td>\n",
       "      <td>240276</td>\n",
       "      <td>9.6875</td>\n",
       "      <td>NaN</td>\n",
       "      <td>Q</td>\n",
       "    </tr>\n",
       "    <tr>\n",
       "      <th>3</th>\n",
       "      <td>895</td>\n",
       "      <td>3</td>\n",
       "      <td>Wirz, Mr. Albert</td>\n",
       "      <td>1</td>\n",
       "      <td>27.0</td>\n",
       "      <td>0</td>\n",
       "      <td>0</td>\n",
       "      <td>315154</td>\n",
       "      <td>8.6625</td>\n",
       "      <td>NaN</td>\n",
       "      <td>S</td>\n",
       "    </tr>\n",
       "    <tr>\n",
       "      <th>4</th>\n",
       "      <td>896</td>\n",
       "      <td>3</td>\n",
       "      <td>Hirvonen, Mrs. Alexander (Helga E Lindqvist)</td>\n",
       "      <td>0</td>\n",
       "      <td>22.0</td>\n",
       "      <td>1</td>\n",
       "      <td>1</td>\n",
       "      <td>3101298</td>\n",
       "      <td>12.2875</td>\n",
       "      <td>NaN</td>\n",
       "      <td>S</td>\n",
       "    </tr>\n",
       "  </tbody>\n",
       "</table>\n",
       "</div>"
      ],
      "text/plain": [
       "   PassengerId  Pclass                                          Name  Sex  \\\n",
       "0          892       3                              Kelly, Mr. James    1   \n",
       "1          893       3              Wilkes, Mrs. James (Ellen Needs)    0   \n",
       "2          894       2                     Myles, Mr. Thomas Francis    1   \n",
       "3          895       3                              Wirz, Mr. Albert    1   \n",
       "4          896       3  Hirvonen, Mrs. Alexander (Helga E Lindqvist)    0   \n",
       "\n",
       "    Age  SibSp  Parch   Ticket     Fare Cabin Embarked  \n",
       "0  34.5      0      0   330911   7.8292   NaN        Q  \n",
       "1  47.0      1      0   363272   7.0000   NaN        S  \n",
       "2  62.0      0      0   240276   9.6875   NaN        Q  \n",
       "3  27.0      0      0   315154   8.6625   NaN        S  \n",
       "4  22.0      1      1  3101298  12.2875   NaN        S  "
      ]
     },
     "execution_count": 8,
     "metadata": {},
     "output_type": "execute_result"
    }
   ],
   "source": [
    "test_data.head()"
   ]
  },
  {
   "cell_type": "code",
   "execution_count": 9,
   "id": "a25e5113",
   "metadata": {
    "execution": {
     "iopub.execute_input": "2022-07-13T19:15:58.341817Z",
     "iopub.status.busy": "2022-07-13T19:15:58.340958Z",
     "iopub.status.idle": "2022-07-13T19:15:58.349179Z",
     "shell.execute_reply": "2022-07-13T19:15:58.347961Z"
    },
    "papermill": {
     "duration": 0.02173,
     "end_time": "2022-07-13T19:15:58.351612",
     "exception": false,
     "start_time": "2022-07-13T19:15:58.329882",
     "status": "completed"
    },
    "tags": []
   },
   "outputs": [],
   "source": [
    "train_data['Embarked'] = le.fit_transform(train_data['Embarked']) \n",
    "test_data['Embarked'] = le.fit_transform(test_data['Embarked']) "
   ]
  },
  {
   "cell_type": "code",
   "execution_count": 10,
   "id": "c3dd690a",
   "metadata": {
    "execution": {
     "iopub.execute_input": "2022-07-13T19:15:58.376059Z",
     "iopub.status.busy": "2022-07-13T19:15:58.375386Z",
     "iopub.status.idle": "2022-07-13T19:15:58.387367Z",
     "shell.execute_reply": "2022-07-13T19:15:58.385919Z"
    },
    "papermill": {
     "duration": 0.027576,
     "end_time": "2022-07-13T19:15:58.389857",
     "exception": false,
     "start_time": "2022-07-13T19:15:58.362281",
     "status": "completed"
    },
    "tags": []
   },
   "outputs": [],
   "source": [
    "x = train_data.drop(['PassengerId','Name','Ticket','Cabin','Survived'],axis=1)\n",
    "y = train_data['Survived']"
   ]
  },
  {
   "cell_type": "code",
   "execution_count": 11,
   "id": "6a8322df",
   "metadata": {
    "execution": {
     "iopub.execute_input": "2022-07-13T19:15:58.410126Z",
     "iopub.status.busy": "2022-07-13T19:15:58.409444Z",
     "iopub.status.idle": "2022-07-13T19:15:58.422077Z",
     "shell.execute_reply": "2022-07-13T19:15:58.421297Z"
    },
    "papermill": {
     "duration": 0.025355,
     "end_time": "2022-07-13T19:15:58.424388",
     "exception": false,
     "start_time": "2022-07-13T19:15:58.399033",
     "status": "completed"
    },
    "tags": []
   },
   "outputs": [
    {
     "data": {
      "text/html": [
       "<div>\n",
       "<style scoped>\n",
       "    .dataframe tbody tr th:only-of-type {\n",
       "        vertical-align: middle;\n",
       "    }\n",
       "\n",
       "    .dataframe tbody tr th {\n",
       "        vertical-align: top;\n",
       "    }\n",
       "\n",
       "    .dataframe thead th {\n",
       "        text-align: right;\n",
       "    }\n",
       "</style>\n",
       "<table border=\"1\" class=\"dataframe\">\n",
       "  <thead>\n",
       "    <tr style=\"text-align: right;\">\n",
       "      <th></th>\n",
       "      <th>Pclass</th>\n",
       "      <th>Sex</th>\n",
       "      <th>Age</th>\n",
       "      <th>SibSp</th>\n",
       "      <th>Parch</th>\n",
       "      <th>Fare</th>\n",
       "      <th>Embarked</th>\n",
       "    </tr>\n",
       "  </thead>\n",
       "  <tbody>\n",
       "    <tr>\n",
       "      <th>0</th>\n",
       "      <td>3</td>\n",
       "      <td>1</td>\n",
       "      <td>22.0</td>\n",
       "      <td>1</td>\n",
       "      <td>0</td>\n",
       "      <td>7.2500</td>\n",
       "      <td>2</td>\n",
       "    </tr>\n",
       "    <tr>\n",
       "      <th>1</th>\n",
       "      <td>1</td>\n",
       "      <td>0</td>\n",
       "      <td>38.0</td>\n",
       "      <td>1</td>\n",
       "      <td>0</td>\n",
       "      <td>71.2833</td>\n",
       "      <td>0</td>\n",
       "    </tr>\n",
       "    <tr>\n",
       "      <th>2</th>\n",
       "      <td>3</td>\n",
       "      <td>0</td>\n",
       "      <td>26.0</td>\n",
       "      <td>0</td>\n",
       "      <td>0</td>\n",
       "      <td>7.9250</td>\n",
       "      <td>2</td>\n",
       "    </tr>\n",
       "    <tr>\n",
       "      <th>3</th>\n",
       "      <td>1</td>\n",
       "      <td>0</td>\n",
       "      <td>35.0</td>\n",
       "      <td>1</td>\n",
       "      <td>0</td>\n",
       "      <td>53.1000</td>\n",
       "      <td>2</td>\n",
       "    </tr>\n",
       "    <tr>\n",
       "      <th>4</th>\n",
       "      <td>3</td>\n",
       "      <td>1</td>\n",
       "      <td>35.0</td>\n",
       "      <td>0</td>\n",
       "      <td>0</td>\n",
       "      <td>8.0500</td>\n",
       "      <td>2</td>\n",
       "    </tr>\n",
       "  </tbody>\n",
       "</table>\n",
       "</div>"
      ],
      "text/plain": [
       "   Pclass  Sex   Age  SibSp  Parch     Fare  Embarked\n",
       "0       3    1  22.0      1      0   7.2500         2\n",
       "1       1    0  38.0      1      0  71.2833         0\n",
       "2       3    0  26.0      0      0   7.9250         2\n",
       "3       1    0  35.0      1      0  53.1000         2\n",
       "4       3    1  35.0      0      0   8.0500         2"
      ]
     },
     "execution_count": 11,
     "metadata": {},
     "output_type": "execute_result"
    }
   ],
   "source": [
    "x.head()"
   ]
  },
  {
   "cell_type": "code",
   "execution_count": 12,
   "id": "9194f761",
   "metadata": {
    "execution": {
     "iopub.execute_input": "2022-07-13T19:15:58.445142Z",
     "iopub.status.busy": "2022-07-13T19:15:58.444491Z",
     "iopub.status.idle": "2022-07-13T19:15:58.451260Z",
     "shell.execute_reply": "2022-07-13T19:15:58.450284Z"
    },
    "papermill": {
     "duration": 0.019468,
     "end_time": "2022-07-13T19:15:58.453378",
     "exception": false,
     "start_time": "2022-07-13T19:15:58.433910",
     "status": "completed"
    },
    "tags": []
   },
   "outputs": [
    {
     "data": {
      "text/plain": [
       "0    0\n",
       "1    1\n",
       "2    1\n",
       "3    1\n",
       "4    0\n",
       "Name: Survived, dtype: int64"
      ]
     },
     "execution_count": 12,
     "metadata": {},
     "output_type": "execute_result"
    }
   ],
   "source": [
    "y.head()"
   ]
  },
  {
   "cell_type": "code",
   "execution_count": 13,
   "id": "1a68c408",
   "metadata": {
    "execution": {
     "iopub.execute_input": "2022-07-13T19:15:58.473861Z",
     "iopub.status.busy": "2022-07-13T19:15:58.473405Z",
     "iopub.status.idle": "2022-07-13T19:15:58.480367Z",
     "shell.execute_reply": "2022-07-13T19:15:58.479215Z"
    },
    "papermill": {
     "duration": 0.020207,
     "end_time": "2022-07-13T19:15:58.482823",
     "exception": false,
     "start_time": "2022-07-13T19:15:58.462616",
     "status": "completed"
    },
    "tags": []
   },
   "outputs": [],
   "source": [
    "x.fillna({'Age':x['Age'].mean()},inplace=True)"
   ]
  },
  {
   "cell_type": "code",
   "execution_count": 14,
   "id": "0a83087c",
   "metadata": {
    "execution": {
     "iopub.execute_input": "2022-07-13T19:15:58.504785Z",
     "iopub.status.busy": "2022-07-13T19:15:58.503959Z",
     "iopub.status.idle": "2022-07-13T19:15:58.513766Z",
     "shell.execute_reply": "2022-07-13T19:15:58.512764Z"
    },
    "papermill": {
     "duration": 0.023638,
     "end_time": "2022-07-13T19:15:58.516384",
     "exception": false,
     "start_time": "2022-07-13T19:15:58.492746",
     "status": "completed"
    },
    "tags": []
   },
   "outputs": [
    {
     "data": {
      "text/plain": [
       "Pclass      0\n",
       "Sex         0\n",
       "Age         0\n",
       "SibSp       0\n",
       "Parch       0\n",
       "Fare        0\n",
       "Embarked    0\n",
       "dtype: int64"
      ]
     },
     "execution_count": 14,
     "metadata": {},
     "output_type": "execute_result"
    }
   ],
   "source": [
    "x.isnull().sum()"
   ]
  },
  {
   "cell_type": "code",
   "execution_count": 15,
   "id": "054f9b64",
   "metadata": {
    "execution": {
     "iopub.execute_input": "2022-07-13T19:15:58.538170Z",
     "iopub.status.busy": "2022-07-13T19:15:58.537452Z",
     "iopub.status.idle": "2022-07-13T19:15:58.745721Z",
     "shell.execute_reply": "2022-07-13T19:15:58.744516Z"
    },
    "papermill": {
     "duration": 0.222768,
     "end_time": "2022-07-13T19:15:58.749159",
     "exception": false,
     "start_time": "2022-07-13T19:15:58.526391",
     "status": "completed"
    },
    "tags": []
   },
   "outputs": [],
   "source": [
    "from sklearn.neighbors import KNeighborsClassifier"
   ]
  },
  {
   "cell_type": "code",
   "execution_count": 16,
   "id": "30b70a09",
   "metadata": {
    "execution": {
     "iopub.execute_input": "2022-07-13T19:15:58.774346Z",
     "iopub.status.busy": "2022-07-13T19:15:58.773545Z",
     "iopub.status.idle": "2022-07-13T19:15:58.779862Z",
     "shell.execute_reply": "2022-07-13T19:15:58.778454Z"
    },
    "papermill": {
     "duration": 0.021826,
     "end_time": "2022-07-13T19:15:58.782563",
     "exception": false,
     "start_time": "2022-07-13T19:15:58.760737",
     "status": "completed"
    },
    "tags": []
   },
   "outputs": [],
   "source": [
    "model = KNeighborsClassifier(n_neighbors=5)"
   ]
  },
  {
   "cell_type": "code",
   "execution_count": 17,
   "id": "2f909153",
   "metadata": {
    "execution": {
     "iopub.execute_input": "2022-07-13T19:15:58.803417Z",
     "iopub.status.busy": "2022-07-13T19:15:58.803016Z",
     "iopub.status.idle": "2022-07-13T19:15:58.817706Z",
     "shell.execute_reply": "2022-07-13T19:15:58.816462Z"
    },
    "papermill": {
     "duration": 0.028149,
     "end_time": "2022-07-13T19:15:58.820156",
     "exception": false,
     "start_time": "2022-07-13T19:15:58.792007",
     "status": "completed"
    },
    "tags": []
   },
   "outputs": [
    {
     "data": {
      "text/plain": [
       "KNeighborsClassifier()"
      ]
     },
     "execution_count": 17,
     "metadata": {},
     "output_type": "execute_result"
    }
   ],
   "source": [
    "model.fit(x,y)"
   ]
  },
  {
   "cell_type": "code",
   "execution_count": 18,
   "id": "45d5cfb3",
   "metadata": {
    "execution": {
     "iopub.execute_input": "2022-07-13T19:15:58.842432Z",
     "iopub.status.busy": "2022-07-13T19:15:58.841711Z",
     "iopub.status.idle": "2022-07-13T19:15:58.884770Z",
     "shell.execute_reply": "2022-07-13T19:15:58.883505Z"
    },
    "papermill": {
     "duration": 0.056865,
     "end_time": "2022-07-13T19:15:58.887449",
     "exception": false,
     "start_time": "2022-07-13T19:15:58.830584",
     "status": "completed"
    },
    "tags": []
   },
   "outputs": [
    {
     "data": {
      "text/plain": [
       "0.8114478114478114"
      ]
     },
     "execution_count": 18,
     "metadata": {},
     "output_type": "execute_result"
    }
   ],
   "source": [
    "model.score(x,y)"
   ]
  },
  {
   "cell_type": "code",
   "execution_count": 19,
   "id": "07766d1f",
   "metadata": {
    "execution": {
     "iopub.execute_input": "2022-07-13T19:15:58.909473Z",
     "iopub.status.busy": "2022-07-13T19:15:58.908875Z",
     "iopub.status.idle": "2022-07-13T19:15:58.916016Z",
     "shell.execute_reply": "2022-07-13T19:15:58.914791Z"
    },
    "papermill": {
     "duration": 0.020755,
     "end_time": "2022-07-13T19:15:58.918403",
     "exception": false,
     "start_time": "2022-07-13T19:15:58.897648",
     "status": "completed"
    },
    "tags": []
   },
   "outputs": [],
   "source": [
    "xtest = test_data.drop(['PassengerId','Name','Ticket','Cabin'],axis=1)"
   ]
  },
  {
   "cell_type": "code",
   "execution_count": 20,
   "id": "65960769",
   "metadata": {
    "execution": {
     "iopub.execute_input": "2022-07-13T19:15:58.939679Z",
     "iopub.status.busy": "2022-07-13T19:15:58.938849Z",
     "iopub.status.idle": "2022-07-13T19:15:58.945465Z",
     "shell.execute_reply": "2022-07-13T19:15:58.944488Z"
    },
    "papermill": {
     "duration": 0.019674,
     "end_time": "2022-07-13T19:15:58.947713",
     "exception": false,
     "start_time": "2022-07-13T19:15:58.928039",
     "status": "completed"
    },
    "tags": []
   },
   "outputs": [],
   "source": [
    "xtest.fillna({'Age':xtest['Age'].mean(),'Fare':xtest['Fare'].mean()},inplace=True)"
   ]
  },
  {
   "cell_type": "code",
   "execution_count": 21,
   "id": "14a67826",
   "metadata": {
    "execution": {
     "iopub.execute_input": "2022-07-13T19:15:58.969677Z",
     "iopub.status.busy": "2022-07-13T19:15:58.968640Z",
     "iopub.status.idle": "2022-07-13T19:15:58.977713Z",
     "shell.execute_reply": "2022-07-13T19:15:58.976740Z"
    },
    "papermill": {
     "duration": 0.022201,
     "end_time": "2022-07-13T19:15:58.979890",
     "exception": false,
     "start_time": "2022-07-13T19:15:58.957689",
     "status": "completed"
    },
    "tags": []
   },
   "outputs": [
    {
     "data": {
      "text/plain": [
       "Pclass      0\n",
       "Sex         0\n",
       "Age         0\n",
       "SibSp       0\n",
       "Parch       0\n",
       "Fare        0\n",
       "Embarked    0\n",
       "dtype: int64"
      ]
     },
     "execution_count": 21,
     "metadata": {},
     "output_type": "execute_result"
    }
   ],
   "source": [
    "xtest.isnull().sum()"
   ]
  },
  {
   "cell_type": "code",
   "execution_count": 22,
   "id": "72cfdc4d",
   "metadata": {
    "execution": {
     "iopub.execute_input": "2022-07-13T19:15:59.002631Z",
     "iopub.status.busy": "2022-07-13T19:15:59.001463Z",
     "iopub.status.idle": "2022-07-13T19:15:59.008223Z",
     "shell.execute_reply": "2022-07-13T19:15:59.007292Z"
    },
    "papermill": {
     "duration": 0.02057,
     "end_time": "2022-07-13T19:15:59.010401",
     "exception": false,
     "start_time": "2022-07-13T19:15:58.989831",
     "status": "completed"
    },
    "tags": []
   },
   "outputs": [
    {
     "data": {
      "text/plain": [
       "(891, 7)"
      ]
     },
     "execution_count": 22,
     "metadata": {},
     "output_type": "execute_result"
    }
   ],
   "source": [
    "x.shape"
   ]
  },
  {
   "cell_type": "code",
   "execution_count": 23,
   "id": "adf5b707",
   "metadata": {
    "execution": {
     "iopub.execute_input": "2022-07-13T19:15:59.033108Z",
     "iopub.status.busy": "2022-07-13T19:15:59.032342Z",
     "iopub.status.idle": "2022-07-13T19:15:59.039574Z",
     "shell.execute_reply": "2022-07-13T19:15:59.038457Z"
    },
    "papermill": {
     "duration": 0.02139,
     "end_time": "2022-07-13T19:15:59.042186",
     "exception": false,
     "start_time": "2022-07-13T19:15:59.020796",
     "status": "completed"
    },
    "tags": []
   },
   "outputs": [
    {
     "data": {
      "text/plain": [
       "(418, 7)"
      ]
     },
     "execution_count": 23,
     "metadata": {},
     "output_type": "execute_result"
    }
   ],
   "source": [
    "xtest.shape"
   ]
  },
  {
   "cell_type": "code",
   "execution_count": 24,
   "id": "4cb5e216",
   "metadata": {
    "execution": {
     "iopub.execute_input": "2022-07-13T19:15:59.064797Z",
     "iopub.status.busy": "2022-07-13T19:15:59.064125Z",
     "iopub.status.idle": "2022-07-13T19:15:59.086450Z",
     "shell.execute_reply": "2022-07-13T19:15:59.085470Z"
    },
    "papermill": {
     "duration": 0.036488,
     "end_time": "2022-07-13T19:15:59.088871",
     "exception": false,
     "start_time": "2022-07-13T19:15:59.052383",
     "status": "completed"
    },
    "tags": []
   },
   "outputs": [],
   "source": [
    "pred = model.predict(xtest)"
   ]
  },
  {
   "cell_type": "code",
   "execution_count": 25,
   "id": "15cbb810",
   "metadata": {
    "execution": {
     "iopub.execute_input": "2022-07-13T19:15:59.111123Z",
     "iopub.status.busy": "2022-07-13T19:15:59.110378Z",
     "iopub.status.idle": "2022-07-13T19:15:59.116038Z",
     "shell.execute_reply": "2022-07-13T19:15:59.115277Z"
    },
    "papermill": {
     "duration": 0.019229,
     "end_time": "2022-07-13T19:15:59.118107",
     "exception": false,
     "start_time": "2022-07-13T19:15:59.098878",
     "status": "completed"
    },
    "tags": []
   },
   "outputs": [
    {
     "data": {
      "text/plain": [
       "(418,)"
      ]
     },
     "execution_count": 25,
     "metadata": {},
     "output_type": "execute_result"
    }
   ],
   "source": [
    "pred.shape"
   ]
  },
  {
   "cell_type": "code",
   "execution_count": 26,
   "id": "cb06c3ac",
   "metadata": {
    "execution": {
     "iopub.execute_input": "2022-07-13T19:15:59.140994Z",
     "iopub.status.busy": "2022-07-13T19:15:59.140167Z",
     "iopub.status.idle": "2022-07-13T19:15:59.149262Z",
     "shell.execute_reply": "2022-07-13T19:15:59.148458Z"
    },
    "papermill": {
     "duration": 0.023476,
     "end_time": "2022-07-13T19:15:59.151640",
     "exception": false,
     "start_time": "2022-07-13T19:15:59.128164",
     "status": "completed"
    },
    "tags": []
   },
   "outputs": [],
   "source": [
    "output = pd.DataFrame({'PassengerId':test_data['PassengerId'], 'Survived':pred})\n",
    "output.to_csv('submission2.csv',index=False)"
   ]
  },
  {
   "cell_type": "code",
   "execution_count": null,
   "id": "368f98ca",
   "metadata": {
    "execution": {
     "iopub.execute_input": "2022-07-13T19:15:12.960770Z",
     "iopub.status.busy": "2022-07-13T19:15:12.960382Z",
     "iopub.status.idle": "2022-07-13T19:15:12.979492Z",
     "shell.execute_reply": "2022-07-13T19:15:12.978305Z",
     "shell.execute_reply.started": "2022-07-13T19:15:12.960740Z"
    },
    "papermill": {
     "duration": 0.009874,
     "end_time": "2022-07-13T19:15:59.172412",
     "exception": false,
     "start_time": "2022-07-13T19:15:59.162538",
     "status": "completed"
    },
    "tags": []
   },
   "outputs": [],
   "source": []
  },
  {
   "cell_type": "code",
   "execution_count": null,
   "id": "9e78a8ff",
   "metadata": {
    "papermill": {
     "duration": 0.010068,
     "end_time": "2022-07-13T19:15:59.192645",
     "exception": false,
     "start_time": "2022-07-13T19:15:59.182577",
     "status": "completed"
    },
    "tags": []
   },
   "outputs": [],
   "source": []
  }
 ],
 "metadata": {
  "kernelspec": {
   "display_name": "Python 3",
   "language": "python",
   "name": "python3"
  },
  "language_info": {
   "codemirror_mode": {
    "name": "ipython",
    "version": 3
   },
   "file_extension": ".py",
   "mimetype": "text/x-python",
   "name": "python",
   "nbconvert_exporter": "python",
   "pygments_lexer": "ipython3",
   "version": "3.7.12"
  },
  "papermill": {
   "default_parameters": {},
   "duration": 13.928578,
   "end_time": "2022-07-13T19:16:00.024247",
   "environment_variables": {},
   "exception": null,
   "input_path": "__notebook__.ipynb",
   "output_path": "__notebook__.ipynb",
   "parameters": {},
   "start_time": "2022-07-13T19:15:46.095669",
   "version": "2.3.4"
  }
 },
 "nbformat": 4,
 "nbformat_minor": 5
}
